{
 "cells": [
  {
   "cell_type": "code",
   "execution_count": 2,
   "id": "25661630",
   "metadata": {},
   "outputs": [],
   "source": [
    "import pandas as pd\n"
   ]
  },
  {
   "cell_type": "code",
   "execution_count": 3,
   "id": "1a5e1a60",
   "metadata": {},
   "outputs": [
    {
     "name": "stdout",
     "output_type": "stream",
     "text": [
      "                  Name Code\n",
      "0          Afghanistan   AF\n",
      "1        Åland Islands   AX\n",
      "2              Albania   AL\n",
      "3              Algeria   DZ\n",
      "4       American Samoa   AS\n",
      "..                 ...  ...\n",
      "244  Wallis and Futuna   WF\n",
      "245     Western Sahara   EH\n",
      "246              Yemen   YE\n",
      "247             Zambia   ZM\n",
      "248           Zimbabwe   ZW\n",
      "\n",
      "[249 rows x 2 columns]\n"
     ]
    }
   ],
   "source": [
    "data = pd.read_csv(\"I:\\Valere Internship\\Week 1\\Day 4\\country.csv\")\n",
    "print(data)"
   ]
  },
  {
   "cell_type": "code",
   "execution_count": 4,
   "id": "72716d01",
   "metadata": {},
   "outputs": [
    {
     "name": "stdout",
     "output_type": "stream",
     "text": [
      "<class 'pandas.core.frame.DataFrame'>\n",
      "RangeIndex: 249 entries, 0 to 248\n",
      "Data columns (total 2 columns):\n",
      " #   Column  Non-Null Count  Dtype \n",
      "---  ------  --------------  ----- \n",
      " 0   Name    249 non-null    object\n",
      " 1   Code    248 non-null    object\n",
      "dtypes: object(2)\n",
      "memory usage: 4.0+ KB\n",
      "None\n"
     ]
    }
   ],
   "source": [
    "print(data.info())"
   ]
  },
  {
   "cell_type": "code",
   "execution_count": 5,
   "id": "825d62a8",
   "metadata": {},
   "outputs": [
    {
     "name": "stdout",
     "output_type": "stream",
     "text": [
      "             Name Code\n",
      "0     Afghanistan   AF\n",
      "1   Åland Islands   AX\n",
      "2         Albania   AL\n",
      "3         Algeria   DZ\n",
      "4  American Samoa   AS\n"
     ]
    }
   ],
   "source": [
    "print(data.head())"
   ]
  },
  {
   "cell_type": "code",
   "execution_count": 6,
   "id": "610c00ba",
   "metadata": {},
   "outputs": [
    {
     "name": "stdout",
     "output_type": "stream",
     "text": [
      "               Name Code\n",
      "count           249  248\n",
      "unique          249  248\n",
      "top     Afghanistan   AF\n",
      "freq              1    1\n"
     ]
    }
   ],
   "source": [
    "print(data.describe())"
   ]
  },
  {
   "cell_type": "code",
   "execution_count": 7,
   "id": "948f34bd",
   "metadata": {},
   "outputs": [
    {
     "name": "stdout",
     "output_type": "stream",
     "text": [
      "<bound method DataFrame.dropna of                   Name Code\n",
      "0          Afghanistan   AF\n",
      "1        Åland Islands   AX\n",
      "2              Albania   AL\n",
      "3              Algeria   DZ\n",
      "4       American Samoa   AS\n",
      "..                 ...  ...\n",
      "244  Wallis and Futuna   WF\n",
      "245     Western Sahara   EH\n",
      "246              Yemen   YE\n",
      "247             Zambia   ZM\n",
      "248           Zimbabwe   ZW\n",
      "\n",
      "[249 rows x 2 columns]>\n"
     ]
    }
   ],
   "source": [
    "print(data.dropna)"
   ]
  },
  {
   "cell_type": "code",
   "execution_count": null,
   "id": "b531e891",
   "metadata": {},
   "outputs": [],
   "source": []
  }
 ],
 "metadata": {
  "kernelspec": {
   "display_name": "venv",
   "language": "python",
   "name": "python3"
  },
  "language_info": {
   "codemirror_mode": {
    "name": "ipython",
    "version": 3
   },
   "file_extension": ".py",
   "mimetype": "text/x-python",
   "name": "python",
   "nbconvert_exporter": "python",
   "pygments_lexer": "ipython3",
   "version": "3.10.9"
  }
 },
 "nbformat": 4,
 "nbformat_minor": 5
}
